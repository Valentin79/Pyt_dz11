{
 "cells": [
  {
   "cell_type": "markdown",
   "id": "1228f03c",
   "metadata": {},
   "source": [
    "y = x^2 - 6*abs(x) + 8\n",
    "1. Определить корни\n",
    "2. Найти интервалы, на которых функция возрастает\n",
    "3. Найти интервалы, на которых функция убывает\n",
    "4. Построить график\n",
    "5. Вычислить вершину\n",
    "6. Определить промежутки, на котором f > 0\n",
    "7. Определить промежутки, на котором f < 0"
   ]
  },
  {
   "cell_type": "code",
   "execution_count": 2,
   "id": "9ae8ca9c",
   "metadata": {},
   "outputs": [],
   "source": [
    "from sympy import Symbol, diff, oo, Interval, is_increasing, is_decreasing\n",
    "from sympy.solvers import solve\n",
    "from sympy.plotting import plot\n",
    "import sympy\n"
   ]
  },
  {
   "cell_type": "code",
   "execution_count": 3,
   "id": "32d3a752",
   "metadata": {},
   "outputs": [
    {
     "data": {
      "text/latex": [
       "$\\displaystyle x^{2} - 6 \\left|{x}\\right| + 8$"
      ],
      "text/plain": [
       "x**2 - 6*Abs(x) + 8"
      ]
     },
     "execution_count": 3,
     "metadata": {},
     "output_type": "execute_result"
    }
   ],
   "source": [
    "x = Symbol('x', real = True)\n",
    "y = x**2 - 6*abs(x) + 8\n",
    "y"
   ]
  },
  {
   "cell_type": "code",
   "execution_count": 4,
   "id": "5ac1e6f5",
   "metadata": {},
   "outputs": [
    {
     "data": {
      "text/plain": [
       "[-4, -2, 2, 4]"
      ]
     },
     "execution_count": 4,
     "metadata": {},
     "output_type": "execute_result"
    }
   ],
   "source": [
    "#1 Определить корни\n",
    "roots = solve(y,x)\n",
    "roots"
   ]
  },
  {
   "cell_type": "code",
   "execution_count": 44,
   "id": "06df43a0",
   "metadata": {},
   "outputs": [
    {
     "name": "stdout",
     "output_type": "stream",
     "text": [
      "Функция возрастат на интервале Interval(3, oo)\n"
     ]
    }
   ],
   "source": [
    "#2 Найти интервалы, на которых функция возрастает\n",
    "derivate = diff(y,x)\n",
    "roots = solve(derivate,x)\n",
    "root = roots.pop()\n",
    "if derivate.subs(x,root + 0.001) > 0:\n",
    "    print(f'Функция возрастат на интервале {Interval(root, oo)}')\n",
    "else:\n",
    "    print(f'Функция убывает на интервале {Interval(root, oo)}')"
   ]
  },
  {
   "cell_type": "code",
   "execution_count": 20,
   "id": "37446c95",
   "metadata": {},
   "outputs": [
    {
     "name": "stdout",
     "output_type": "stream",
     "text": [
      "Функция убывает на интервалеInterval(-oo, 3)\n"
     ]
    }
   ],
   "source": [
    "#3 Найти интервалы, на которых функция убывает\n",
    "derivate = diff(y,x)\n",
    "roots = solve(derivate,x)\n",
    "root = roots.pop()\n",
    "if derivate.subs(x,root - 0.001) < 0:\n",
    "    print(f'Функция убывает на интервале {Interval(-oo, root)}')\n",
    "else:\n",
    "    print(f'Функция возрастает на интервале {Interval(root, oo)}')"
   ]
  },
  {
   "cell_type": "code",
   "execution_count": 18,
   "id": "9ce42a21",
   "metadata": {},
   "outputs": [
    {
     "data": {
      "image/png": "[encoded data removed]",
      "text/plain": [
       "<Figure size 432x288 with 1 Axes>"
      ]
     },
     "metadata": {
      "needs_background": "light"
     },
     "output_type": "display_data"
    },
    {
     "data": {
      "text/plain": [
       "<sympy.plotting.plot.Plot at 0x1b7dd31f670>"
      ]
     },
     "execution_count": 18,
     "metadata": {},
     "output_type": "execute_result"
    }
   ],
   "source": [
    "plot(y)"
   ]
  },
  {
   "cell_type": "code",
   "execution_count": 23,
   "id": "54a6ee8b",
   "metadata": {},
   "outputs": [
    {
     "data": {
      "text/latex": [
       "$\\displaystyle -1$"
      ],
      "text/plain": [
       "-1"
      ]
     },
     "execution_count": 23,
     "metadata": {},
     "output_type": "execute_result"
    }
   ],
   "source": [
    "#5 Вычислить вершину\n",
    "extremum = y.subs(x,root)\n",
    "extremum"
   ]
  },
  {
   "cell_type": "code",
   "execution_count": 39,
   "id": "2273236c",
   "metadata": {},
   "outputs": [
    {
     "name": "stdout",
     "output_type": "stream",
     "text": [
      "Функция > 0 на Interval(-oo, -4)\n",
      "Функция < 0 на Interval(-4, -2)\n",
      "Функция > 0 на Interval(-2, 2)\n",
      "Функция < 0 на Interval(2, 4)\n",
      "Функция > 0 на Interval(4, oo)\n"
     ]
    }
   ],
   "source": [
    "#6 Определить промежутки, на котором f > 0\n",
    "#7 Определить промежутки, на котором f < 0\n",
    "roots = solve(y,x)\n",
    "temp = -oo\n",
    "for root in roots:\n",
    "    if y.subs(x, root - 0.01) > 0:\n",
    "        print(f'Функция > 0 на {Interval(temp, root)}')\n",
    "        temp = root\n",
    "    else:\n",
    "        print(f'Функция < 0 на {Interval(temp, root)}')\n",
    "        temp = root\n",
    "print(f'Функция > 0 на {Interval(temp, oo)}')"
   ]
  },
  {
   "cell_type": "code",
   "execution_count": null,
   "id": "6055e4f7",
   "metadata": {},
   "outputs": [],
   "source": []
  }
 ],
 "metadata": {
  "kernelspec": {
   "display_name": "Python 3 (ipykernel)",
   "language": "python",
   "name": "python3"
  },
  "language_info": {
   "codemirror_mode": {
    "name": "ipython",
    "version": 3
   },
   "file_extension": ".py",
   "mimetype": "text/x-python",
   "name": "python",
   "nbconvert_exporter": "python",
   "pygments_lexer": "ipython3",
   "version": "3.9.12"
  }
 },
 "nbformat": 4,
 "nbformat_minor": 5
}
